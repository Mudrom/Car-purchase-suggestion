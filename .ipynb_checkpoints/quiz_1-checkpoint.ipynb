{
 "cells": [
  {
   "cell_type": "code",
   "execution_count": 6,
   "id": "e7de0bbe",
   "metadata": {},
   "outputs": [],
   "source": [
    "a='a';b='b';c='c'"
   ]
  },
  {
   "cell_type": "code",
   "execution_count": 11,
   "id": "ae9a42cb",
   "metadata": {},
   "outputs": [
    {
     "data": {
      "text/plain": [
       "True"
      ]
     },
     "execution_count": 11,
     "metadata": {},
     "output_type": "execute_result"
    }
   ],
   "source": [
    "a in [a,b]"
   ]
  },
  {
   "cell_type": "code",
   "execution_count": 12,
   "id": "7d41ab90",
   "metadata": {},
   "outputs": [
    {
     "data": {
      "text/plain": [
       "False"
      ]
     },
     "execution_count": 12,
     "metadata": {},
     "output_type": "execute_result"
    }
   ],
   "source": [
    "a in [[a],[b,c]]"
   ]
  },
  {
   "cell_type": "code",
   "execution_count": 13,
   "id": "3926203c",
   "metadata": {},
   "outputs": [
    {
     "data": {
      "text/plain": [
       "True"
      ]
     },
     "execution_count": 13,
     "metadata": {},
     "output_type": "execute_result"
    }
   ],
   "source": [
    "[a] in [[a],[b,c]]"
   ]
  },
  {
   "cell_type": "code",
   "execution_count": 15,
   "id": "8cbb6e7c",
   "metadata": {},
   "outputs": [
    {
     "data": {
      "text/plain": [
       "False"
      ]
     },
     "execution_count": 15,
     "metadata": {},
     "output_type": "execute_result"
    }
   ],
   "source": [
    "all(x in [[a],[b,c]] for x in [a])"
   ]
  },
  {
   "cell_type": "code",
   "execution_count": 16,
   "id": "2df1781d",
   "metadata": {},
   "outputs": [
    {
     "data": {
      "text/plain": [
       "True"
      ]
     },
     "execution_count": 16,
     "metadata": {},
     "output_type": "execute_result"
    }
   ],
   "source": [
    "all(x in [[a],[b,c]] for x in [[a]])"
   ]
  }
 ],
 "metadata": {
  "kernelspec": {
   "display_name": "Python 3 (ipykernel)",
   "language": "python",
   "name": "python3"
  },
  "language_info": {
   "codemirror_mode": {
    "name": "ipython",
    "version": 3
   },
   "file_extension": ".py",
   "mimetype": "text/x-python",
   "name": "python",
   "nbconvert_exporter": "python",
   "pygments_lexer": "ipython3",
   "version": "3.7.13"
  }
 },
 "nbformat": 4,
 "nbformat_minor": 5
}
