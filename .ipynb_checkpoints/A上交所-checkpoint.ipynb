{
 "cells": [
  {
   "cell_type": "code",
   "execution_count": 1,
   "id": "261b6d70",
   "metadata": {},
   "outputs": [
    {
     "ename": "NameError",
     "evalue": "name 'response' is not defined",
     "output_type": "error",
     "traceback": [
      "\u001b[1;31m---------------------------------------------------------------------------\u001b[0m",
      "\u001b[1;31mNameError\u001b[0m                                 Traceback (most recent call last)",
      "\u001b[1;32m~\\AppData\\Local\\Temp/ipykernel_20112/1830206261.py\u001b[0m in \u001b[0;36m<module>\u001b[1;34m\u001b[0m\n\u001b[0;32m     20\u001b[0m         \u001b[0mheaders\u001b[0m\u001b[1;33m=\u001b[0m\u001b[1;33m{\u001b[0m\u001b[1;34m'Referer'\u001b[0m\u001b[1;33m:\u001b[0m \u001b[1;34m'http://www.sse.com.cn/disclosure/listedinfo/announcement/'\u001b[0m\u001b[1;33m}\u001b[0m\u001b[1;33m\u001b[0m\u001b[1;33m\u001b[0m\u001b[0m\n\u001b[0;32m     21\u001b[0m     )\n\u001b[1;32m---> 22\u001b[1;33m     \u001b[0mjson_str1\u001b[0m \u001b[1;33m=\u001b[0m \u001b[0mresponse\u001b[0m\u001b[1;33m.\u001b[0m\u001b[0mtext\u001b[0m\u001b[1;33m[\u001b[0m\u001b[1;36m19\u001b[0m\u001b[1;33m:\u001b[0m\u001b[1;33m-\u001b[0m\u001b[1;36m1\u001b[0m\u001b[1;33m]\u001b[0m\u001b[1;33m\u001b[0m\u001b[1;33m\u001b[0m\u001b[0m\n\u001b[0m\u001b[0;32m     23\u001b[0m     \u001b[0mdata1\u001b[0m \u001b[1;33m=\u001b[0m \u001b[0mjson\u001b[0m\u001b[1;33m.\u001b[0m\u001b[0mloads\u001b[0m\u001b[1;33m(\u001b[0m\u001b[0mjson_str\u001b[0m\u001b[1;33m)\u001b[0m\u001b[1;31m#！！\u001b[0m\u001b[1;33m\u001b[0m\u001b[1;33m\u001b[0m\u001b[0m\n\u001b[0;32m     24\u001b[0m     \u001b[1;31m#从这里开始\u001b[0m\u001b[1;33m\u001b[0m\u001b[1;33m\u001b[0m\u001b[0m\n",
      "\u001b[1;31mNameError\u001b[0m: name 'response' is not defined"
     ]
    }
   ],
   "source": [
    "import json\n",
    "import requests\n",
    "import re\n",
    "import datetime\n",
    "import csv \n",
    "import time\n",
    "f=open ('D:\\\\01上交所\\\\'+'A.csv',mode='w',encoding='gbk',newline='')\n",
    "writer = csv.writer(f)\n",
    "head=['A']\n",
    "writer.writerow(head)\n",
    "#要下载的年报日期可以根据需要调整，开始日期和结束日期间隔最好不要超过30日#\n",
    "begin = datetime.date(2021,6,19)\n",
    "end = datetime.date(2021,6,25)\n",
    "for i in range((end - begin).days+1):\n",
    "    time.sleep(1)\n",
    "    searchDate = str(begin + datetime.timedelta(days=i))\n",
    "    response1=requests.get(\n",
    "        'http://query.sse.com.cn/security/stock/queryCompanyBulletin.do?jsonCallBack=jsonpCallback31769&isPagination=true&productId=&keyWord=&securityType=0101%2C120100%2C020100%2C020200%2C120200&reportType2=DQBG&reportType=YEARLY&beginDate='+searchDate+'&endDate='+searchDate+'&pageHelp.pageSize=25&pageHelp.pageCount=50&pageHelp.pageNo=1&pageHelp.beginPage=1&pageHelp.cacheSize=1&pageHelp.endPage=5&_=1586598987374'\n",
    "        ,\n",
    "        headers={'Referer': 'http://www.sse.com.cn/disclosure/listedinfo/announcement/'}\n",
    "    )\n",
    "    json_str1 = response1.text[19:-1]\n",
    "    data1 = json.loads(json_str)#！！\n",
    "    #从这里开始\n",
    "    max_page=data['pageHelp']['endPage']+1\n",
    "    for j in range(1,max_page):\n",
    "        response=requests.get(\n",
    "        'http://query.sse.com.cn/security/stock/queryCompanyBulletin.do?jsonCallBack=jsonpCallback31769&isPagination=true&productId=&keyWord=&securityType=0101%2C120100%2C020100%2C020200%2C120200&reportType2=DQBG&reportType=YEARLY&beginDate='+searchDate+'&endDate='+searchDate+'&pageHelp.pageSize=25&pageHelp.pageCount=50&pageHelp.pageNo=1&pageHelp.beginPage='+str(j)+'&pageHelp.cacheSize=1&pageHelp.endPage=5&_=1586598987374'\n",
    "        ,\n",
    "        headers={'Referer': 'http://www.sse.com.cn/disclosure/listedinfo/announcement/'}\n",
    "        )\n",
    "    #到这里结束       \n",
    "        for report in data['result']:\n",
    "                download_url = 'http://www.sse.com.cn/' + report['URL']\n",
    "                if re.search('年度报告',report['TITLE'],re.S):\n",
    "                    if re.search('摘要',report['TITLE'],re.S):###避免下载一些年报摘要等不需要的文件###\n",
    "                        pass\n",
    "                    else:\n",
    "                        filename = report['SECURITY_CODE']+report['TITLE'] +searchDate+ '.pdf'\n",
    "                        print(filename)\n",
    "                        writer.writerow([report['SECURITY_CODE']])###将公司代码写进csv文件，便于计数，非必须步骤###\n",
    "                        if re.search('ST',report['TITLE'],re.S):###下载前要将文件名中带*号的去掉，因为文件命名规则不能带*号，否则程序会中断###\n",
    "                            filename=report['SECURITY_CODE']+'-ST' +searchDate+ '.pdf'\n",
    "                            download_url = 'http://static.sse.com.cn/' + report['URL']\n",
    "                            resource = requests.get(download_url, stream=True)\n",
    "                            with open('D:\\\\01上交所\\\\'+filename, 'wb') as fd:\n",
    "                                for y in resource.iter_content(102400):\n",
    "                                    fd.write(y)\n",
    "                                print(filename, '完成下载')\n",
    "                        else:\n",
    "                            download_url = 'http://static.sse.com.cn/' + report['URL']\n",
    "                            resource = requests.get(download_url, stream=True)\n",
    "                            with open('D:\\\\01上交所\\\\'+filename, 'wb') as fd:\n",
    "                                for y in resource.iter_content(102400):\n",
    "                                    fd.write(y)\n",
    "                                print(filename, '完成下载')\n",
    "f.close()\n",
    "    "
   ]
  },
  {
   "cell_type": "code",
   "execution_count": null,
   "id": "474bddd3",
   "metadata": {},
   "outputs": [],
   "source": []
  },
  {
   "cell_type": "code",
   "execution_count": null,
   "id": "26b84e3a",
   "metadata": {},
   "outputs": [],
   "source": []
  },
  {
   "cell_type": "code",
   "execution_count": null,
   "id": "dc69c344",
   "metadata": {},
   "outputs": [],
   "source": []
  },
  {
   "cell_type": "code",
   "execution_count": null,
   "id": "4e8fc7fe",
   "metadata": {},
   "outputs": [],
   "source": []
  },
  {
   "cell_type": "code",
   "execution_count": null,
   "id": "d816e087",
   "metadata": {},
   "outputs": [],
   "source": []
  },
  {
   "cell_type": "code",
   "execution_count": null,
   "id": "9c241bc3",
   "metadata": {},
   "outputs": [],
   "source": []
  },
  {
   "cell_type": "code",
   "execution_count": null,
   "id": "f50d6824",
   "metadata": {},
   "outputs": [],
   "source": []
  },
  {
   "cell_type": "code",
   "execution_count": null,
   "id": "79ab2356",
   "metadata": {},
   "outputs": [],
   "source": []
  }
 ],
 "metadata": {
  "kernelspec": {
   "display_name": "Python 3 (ipykernel)",
   "language": "python",
   "name": "python3"
  },
  "language_info": {
   "codemirror_mode": {
    "name": "ipython",
    "version": 3
   },
   "file_extension": ".py",
   "mimetype": "text/x-python",
   "name": "python",
   "nbconvert_exporter": "python",
   "pygments_lexer": "ipython3",
   "version": "3.9.7"
  }
 },
 "nbformat": 4,
 "nbformat_minor": 5
}
