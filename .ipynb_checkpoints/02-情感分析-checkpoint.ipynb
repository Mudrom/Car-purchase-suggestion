{
 "cells": [
  {
   "cell_type": "code",
   "execution_count": 3,
   "metadata": {},
   "outputs": [
    {
     "name": "stdout",
     "output_type": "stream",
     "text": [
      "('002377', '1-10', 4141, 134, 68)\n",
      "('002436', '1-11', 4249, 119, 72)\n",
      "('300029', '1-10', 3537, 84, 52)\n",
      "('300367', '1-10', 5056, 116, 72)\n",
      "('300537', '1-10', 4354, 133, 68)\n",
      "('300537', '1-10', 4509, 131, 67)\n",
      "('300537', '1-10', 4891, 129, 78)\n"
     ]
    }
   ],
   "source": [
    "import jieba\n",
    "import os\n",
    "import csv\n",
    "import re\n",
    "####情感词典读入##########\n",
    "pos=open('D:/211018测试/positive.txt').read()\n",
    "pos1=pos.split('\\n')\n",
    "neg=open('D:/211018测试/negative.txt').read()\n",
    "neg1=neg.split('\\n')\n",
    "#####计算情感词个数#########\n",
    "def tone_f(text):\n",
    "    pos_num = 0\n",
    "    neg_num = 0\n",
    "    ##找到中文字符并转化为字符串\n",
    "    z_text = ''.join(re.findall('[\\u4e00-\\u9fa5]+', text))\n",
    "    ##字符串的分割\n",
    "    cutlist = jieba.lcut(z_text)\n",
    "    ##大于1长度且不重复\n",
    "    cut_listset = [_ for _ in set(cutlist) if len(_)>1]\n",
    "    for word in cut_listset:\n",
    "        if word in pos1:\n",
    "            pos_num=pos_num+1\n",
    "        if word in neg1:\n",
    "            neg_num = neg_num+1\n",
    "    return(len(cut_listset),pos_num, neg_num)\n",
    "\n",
    "###计算一个公司txt的情感\n",
    "#txt1=open('E:/python培训/文本分析原始数据/情感分析/阿科力2017.txt',encoding='gbk').read()\n",
    "#tone_ciping=tone_f(txt1)\n",
    "#tone_ciping\n",
    "\n",
    "#新建csvf \n",
    "csvf = open('D:/finaljc/情感分析1.csv', 'a+', encoding='utf-8', newline='')\n",
    "writer = csv.writer(csvf)\n",
    "writer.writerow(('Company', 'Year', 'Length', 'Pos', 'Neg'))\n",
    "#####读入多个文档\n",
    "dir1='D:/finalsj/txt/'\n",
    "dirlist = os.listdir('D:/finaljc/txt/')#把名字提取出来变成列表\n",
    "\n",
    "#计算情感分\n",
    "for path in dirlist:\n",
    "    text = open(dir1+path,encoding='utf-8').read()\n",
    "    length, pos, neg = tone_f(text)\n",
    "    name = path.split('/')[-1][0:6]\n",
    "    year = path.split('/')[-1][7:11]\n",
    "    writer.writerow((name, year, length, pos, neg))\n",
    "    print((name, year, length, pos, neg))\n",
    "csvf.close()\n"
   ]
  },
  {
   "cell_type": "code",
   "execution_count": null,
   "metadata": {},
   "outputs": [],
   "source": []
  }
 ],
 "metadata": {
  "kernelspec": {
   "display_name": "Python 3 (ipykernel)",
   "language": "python",
   "name": "python3"
  },
  "language_info": {
   "codemirror_mode": {
    "name": "ipython",
    "version": 3
   },
   "file_extension": ".py",
   "mimetype": "text/x-python",
   "name": "python",
   "nbconvert_exporter": "python",
   "pygments_lexer": "ipython3",
   "version": "3.9.7"
  }
 },
 "nbformat": 4,
 "nbformat_minor": 4
}
