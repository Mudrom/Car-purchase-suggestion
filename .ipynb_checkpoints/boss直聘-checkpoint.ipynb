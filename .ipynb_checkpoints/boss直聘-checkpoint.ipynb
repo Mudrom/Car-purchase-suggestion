{
 "cells": [
  {
   "cell_type": "code",
   "execution_count": 2,
   "metadata": {},
   "outputs": [
    {
     "data": {
      "text/plain": [
       "[['Python 后端开发工程师', '北京', '15-25K'],\n",
       " ['python （中高级  急岗）', '北京·石景山区·鲁谷', '15-30K'],\n",
       " ['Python 开发工程师', '北京', '15-25K'],\n",
       " ['python 爬虫工程师', '北京', '12-20K·13薪'],\n",
       " ['Python web工程师', '北京·海淀区·西北旺', '14-20K'],\n",
       " ['python', '北京·朝阳区·酒仙桥', '11-22K'],\n",
       " ['Python', '北京·朝阳区·来广营', '18-25K·14薪'],\n",
       " ['Python 工程师', '北京·海淀区·中关村', '20-40K'],\n",
       " ['python', '北京·朝阳区·酒仙桥', '30-50K·15薪'],\n",
       " ['Python', '北京·朝阳区·三元桥', '20-40K·14薪'],\n",
       " ['Python', '北京·海淀区·中关村', '20-40K'],\n",
       " ['python', '北京·海淀区·五道口', '15-22K'],\n",
       " ['Python', '北京·昌平区·沙河', '14-22K'],\n",
       " ['Python', '北京·海淀区·上地', '20-30K'],\n",
       " ['Python工程师', '北京·海淀区·林萃', '12-22K'],\n",
       " ['Python', '北京·海淀区·西北旺', '25-35K'],\n",
       " ['python', '北京·海淀区·西北旺', '20-40K'],\n",
       " ['Python', '北京·海淀区·上地', '11-22K'],\n",
       " ['python', '北京·西城区·动物园', '15-30K'],\n",
       " ['高级python 开发', '北京·海淀区·学院路', '20-30K·13薪'],\n",
       " ['爬虫python工程师', '北京·朝阳区·三元桥', '20-40K·14薪'],\n",
       " ['Python', '北京·海淀区·中关村', '15-25K·14薪'],\n",
       " ['Python开发', '北京·海淀区·西北旺', '15-28K'],\n",
       " ['高级python工程师', '北京', '30-45K·13薪'],\n",
       " ['Python开发', '北京·朝阳区·望京', '15-25K'],\n",
       " ['高级python工程师', '北京·朝阳区·四惠', '17-25K'],\n",
       " ['Python', '北京·海淀区·西北旺', '25-50K·14薪'],\n",
       " ['Python高级开发', '北京', '15-24K'],\n",
       " ['python', '北京·朝阳区·太阳宫', '25-50K'],\n",
       " ['python开发', '北京·海淀区·人民大学', '20-35K·13薪']]"
      ]
     },
     "execution_count": 2,
     "metadata": {},
     "output_type": "execute_result"
    }
   ],
   "source": [
    "import requests\n",
    "from bs4 import BeautifulSoup\n",
    "import bs4\n",
    "import csv\n",
    "url='https://www.zhipin.com/c101010100/?query=python&page=1&ka=page-1'\n",
    "h= {'user-agent': 'Mozilla/5.0'}\n",
    "c={'Cookie': 'Hm_lvt_194df3105ad7148dcf2b98a91b5e727a=1630116789,1632447061; lastCity=100010000; __g=-; acw_tc=0b6e704a16324508307428961e01a2aa5d22feea5f00d5aa86749da63a5024; __c=1632447063; __l=l=%2Fwww.zhipin.com%2Fc101010100%2F%3Fquery%3Dpython%26page%3D1%26ka%3Dpage-1&s=3&friend_source=0; __a=26716660.1630116791.1630116791.1632447063.5.2.4.5; Hm_lpvt_194df3105ad7148dcf2b98a91b5e727a=1632450831; __zp_stoken__=f68bdWHosOXVNUEIPCjF6eGlhSBs7aTRkSnQ4JTx7NWESeFNYCloSLm9EPTN6LmoPJkx%2BFx06eAQtZjZAYTFbaEdsIXB%2BRVVkJy9vD1QNLx9LK3ItQUdHfzUZMmxgchEMZHVMP2BODQ1gdEY%3D'}\n",
    "r=requests.get(url, headers=h,cookies=c,timeout=30)\n",
    "r.raise_for_status()  #产生异常信息\n",
    "r.encoding=r.apparent_encoding\n",
    "soup=BeautifulSoup(r.text,\"html.parser\")\n",
    "ulist=[]\n",
    "for item in soup.select('ul li .job-primary .info-primary ') :\n",
    "    title=item.select('.job-title .job-name a')\n",
    "    place=item.select('.job-title .job-area-wrapper  .job-area')\n",
    "    salary=item.select('span.red')\n",
    "    ulist.append([title[0].string,place[0].string,salary[0].string])\n",
    "ulist"
   ]
  },
  {
   "cell_type": "code",
   "execution_count": 18,
   "metadata": {
    "scrolled": true
   },
   "outputs": [
    {
     "data": {
      "text/plain": [
       "[['后端研发工程师（Go/Python）', '北京·海淀区', '15-30K'],\n",
       " ['python 开发工程师 （业务风控）', '北京', '15-30K·14薪'],\n",
       " ['Java/Python/C++开发工程师-北京深圳上海', '北京·海淀区', '20-40K'],\n",
       " ['python工程师，（偏推荐算法方向）', '北京·朝阳区', '20-35K·14薪'],\n",
       " ['Python', '北京·朝阳区', '30-50K·13薪'],\n",
       " ['Python', '北京·朝阳区', '18-30K'],\n",
       " ['Linux Python/C++开发工程师', '北京·海淀区', '15-30K'],\n",
       " ['Python工程师', '北京·朝阳区', '15-25K'],\n",
       " ['资深Python/Go工程师', '北京·海淀区', '25-50K·14薪'],\n",
       " ['Python高级软件开发工程师', '北京·海淀区', '20-40K·14薪'],\n",
       " ['Python高级工程师', '北京', '20-35K'],\n",
       " ['Python（TL）', '北京·朝阳区', '12-20K'],\n",
       " ['Python讲师（Python Web方向）', '北京', '30-50K'],\n",
       " ['Python', '北京·海淀区', '25-50K·16薪'],\n",
       " ['Python（恒丰银行）', '北京·西城区', '11-20K'],\n",
       " ['Python', '北京·朝阳区', '25-50K'],\n",
       " ['Java/Python高级开发工程师', '北京·海淀区', '25-35K·15薪'],\n",
       " ['Python软件工程师', '北京·海淀区', '20-25K'],\n",
       " ['服务研发工程师（python）', '北京', '20-40K·14薪'],\n",
       " ['Python', '北京·东城区', '15-27K'],\n",
       " ['Python', '北京', '15-20K'],\n",
       " ['Python', '北京·朝阳区', '20-40K'],\n",
       " ['高级Python工程师', '北京·东城区', '25-50K'],\n",
       " ['python工程师', '北京·朝阳区', '15-25K'],\n",
       " ['Python后端开发', '北京·海淀区', '15-25K·14薪'],\n",
       " ['Python', '北京·海淀区', '20-40K'],\n",
       " ['阿里云-弹性计算-资深Python/Go工程师/专家', '北京', '30-60K·16薪'],\n",
       " ['Python', '北京·海淀区', '15-30K·14薪'],\n",
       " ['阿里云python后台研发专家', '北京·朝阳区', '25-50K'],\n",
       " ['Python', '北京·朝阳区', '15-30K']]"
      ]
     },
     "execution_count": 18,
     "metadata": {},
     "output_type": "execute_result"
    }
   ],
   "source": [
    "\n"
   ]
  },
  {
   "cell_type": "code",
   "execution_count": null,
   "metadata": {},
   "outputs": [],
   "source": []
  }
 ],
 "metadata": {
  "kernelspec": {
   "display_name": "Python 3 (ipykernel)",
   "language": "python",
   "name": "python3"
  },
  "language_info": {
   "codemirror_mode": {
    "name": "ipython",
    "version": 3
   },
   "file_extension": ".py",
   "mimetype": "text/x-python",
   "name": "python",
   "nbconvert_exporter": "python",
   "pygments_lexer": "ipython3",
   "version": "3.9.6"
  }
 },
 "nbformat": 4,
 "nbformat_minor": 4
}
