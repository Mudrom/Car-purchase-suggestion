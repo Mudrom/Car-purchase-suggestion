{
 "cells": [
  {
   "cell_type": "code",
   "execution_count": 1,
   "id": "d8773421",
   "metadata": {},
   "outputs": [],
   "source": [
    "from bs4 import BeautifulSoup\n",
    "import requests\n",
    "r=requests.get('http://python123.io/ws/demo.html')\n",
    "demo=r.text\n",
    "soup=BeautifulSoup(demo,\"html.parser\")\n",
    "\n"
   ]
  },
  {
   "cell_type": "code",
   "execution_count": 2,
   "id": "3572ff2e",
   "metadata": {},
   "outputs": [
    {
     "data": {
      "text/plain": [
       "<html><head><title>This is a python demo page</title></head>\n",
       "<body>\n",
       "<p class=\"title\"><b>The demo python introduces several python courses.</b></p>\n",
       "<p class=\"course\">Python is a wonderful general-purpose programming language. You can learn Python from novice to professional by tracking the following courses:\n",
       "<a class=\"py1\" href=\"http://www.icourse163.org/course/BIT-268001\" id=\"link1\">Basic Python</a> and <a class=\"py2\" href=\"http://www.icourse163.org/course/BIT-1001870001\" id=\"link2\">Advanced Python</a>.</p>\n",
       "</body></html>"
      ]
     },
     "execution_count": 2,
     "metadata": {},
     "output_type": "execute_result"
    }
   ],
   "source": [
    "soup"
   ]
  },
  {
   "cell_type": "code",
   "execution_count": 3,
   "id": "4abd9dce",
   "metadata": {},
   "outputs": [
    {
     "data": {
      "text/plain": [
       "<p class=\"title\"><b>The demo python introduces several python courses.</b></p>"
      ]
     },
     "execution_count": 3,
     "metadata": {},
     "output_type": "execute_result"
    }
   ],
   "source": [
    "soup.p"
   ]
  },
  {
   "cell_type": "code",
   "execution_count": 4,
   "id": "465d3af7",
   "metadata": {},
   "outputs": [
    {
     "data": {
      "text/plain": [
       "<a class=\"py1\" href=\"http://www.icourse163.org/course/BIT-268001\" id=\"link1\">Basic Python</a>"
      ]
     },
     "execution_count": 4,
     "metadata": {},
     "output_type": "execute_result"
    }
   ],
   "source": [
    "soup.a"
   ]
  },
  {
   "cell_type": "code",
   "execution_count": 5,
   "id": "50ae84e6",
   "metadata": {},
   "outputs": [
    {
     "data": {
      "text/plain": [
       "<a class=\"py1\" href=\"http://www.icourse163.org/course/BIT-268001\" id=\"link1\">Basic Python</a>"
      ]
     },
     "execution_count": 5,
     "metadata": {},
     "output_type": "execute_result"
    }
   ],
   "source": [
    "soup.find('a')"
   ]
  },
  {
   "cell_type": "code",
   "execution_count": 6,
   "id": "c1c02932",
   "metadata": {},
   "outputs": [
    {
     "data": {
      "text/plain": [
       "[<a class=\"py1\" href=\"http://www.icourse163.org/course/BIT-268001\" id=\"link1\">Basic Python</a>,\n",
       " <a class=\"py2\" href=\"http://www.icourse163.org/course/BIT-1001870001\" id=\"link2\">Advanced Python</a>]"
      ]
     },
     "execution_count": 6,
     "metadata": {},
     "output_type": "execute_result"
    }
   ],
   "source": [
    "soup.find_all('a')"
   ]
  },
  {
   "cell_type": "code",
   "execution_count": 7,
   "id": "44022812",
   "metadata": {},
   "outputs": [
    {
     "name": "stdout",
     "output_type": "stream",
     "text": [
      "http://www.icourse163.org/course/BIT-268001\n",
      "http://www.icourse163.org/course/BIT-1001870001\n"
     ]
    }
   ],
   "source": [
    "for link in soup.find_all('a'):\n",
    "\tprint(link.get('href'))"
   ]
  },
  {
   "cell_type": "code",
   "execution_count": 8,
   "id": "d78e8585",
   "metadata": {},
   "outputs": [
    {
     "name": "stdout",
     "output_type": "stream",
     "text": [
      "['py1']\n",
      "['py2']\n"
     ]
    }
   ],
   "source": [
    "for link in soup.find_all('a'):\n",
    "\tprint(link.get('class'))"
   ]
  },
  {
   "cell_type": "code",
   "execution_count": 9,
   "id": "7d1de837",
   "metadata": {},
   "outputs": [
    {
     "name": "stdout",
     "output_type": "stream",
     "text": [
      "link1\n",
      "link2\n"
     ]
    }
   ],
   "source": [
    "for link in soup.find_all('a'):\n",
    "\tprint(link.get('id'))"
   ]
  },
  {
   "cell_type": "code",
   "execution_count": null,
   "id": "6792ef02",
   "metadata": {},
   "outputs": [],
   "source": []
  },
  {
   "cell_type": "code",
   "execution_count": null,
   "id": "b073b33c",
   "metadata": {},
   "outputs": [],
   "source": [
    "from bs4 import BeautifulSoup\n",
    "import requests\n",
    "r=requests.get('http://python123.io/ws/demo.html')\n",
    "demo=r.text\n",
    "soup=BeautifulSoup(demo,\"html.parser\")\n"
   ]
  },
  {
   "cell_type": "code",
   "execution_count": 10,
   "id": "4b84f8b7",
   "metadata": {},
   "outputs": [
    {
     "name": "stdout",
     "output_type": "stream",
     "text": [
      "[<a class=\"py1\" href=\"http://www.icourse163.org/course/BIT-268001\" id=\"link1\">Basic Python</a>, <a class=\"py2\" href=\"http://www.icourse163.org/course/BIT-1001870001\" id=\"link2\">Advanced Python</a>]\n"
     ]
    }
   ],
   "source": [
    "print(soup.find_all('a'))"
   ]
  },
  {
   "cell_type": "code",
   "execution_count": 11,
   "id": "45270cb0",
   "metadata": {},
   "outputs": [
    {
     "name": "stdout",
     "output_type": "stream",
     "text": [
      "[<b>The demo python introduces several python courses.</b>, <a class=\"py1\" href=\"http://www.icourse163.org/course/BIT-268001\" id=\"link1\">Basic Python</a>, <a class=\"py2\" href=\"http://www.icourse163.org/course/BIT-1001870001\" id=\"link2\">Advanced Python</a>]\n"
     ]
    }
   ],
   "source": [
    "print(soup.find_all(['a','b']))"
   ]
  },
  {
   "cell_type": "code",
   "execution_count": 12,
   "id": "1f9f2b0e",
   "metadata": {
    "collapsed": true
   },
   "outputs": [
    {
     "data": {
      "text/plain": [
       "[<html><head><title>This is a python demo page</title></head>\n",
       " <body>\n",
       " <p class=\"title\"><b>The demo python introduces several python courses.</b></p>\n",
       " <p class=\"course\">Python is a wonderful general-purpose programming language. You can learn Python from novice to professional by tracking the following courses:\n",
       " <a class=\"py1\" href=\"http://www.icourse163.org/course/BIT-268001\" id=\"link1\">Basic Python</a> and <a class=\"py2\" href=\"http://www.icourse163.org/course/BIT-1001870001\" id=\"link2\">Advanced Python</a>.</p>\n",
       " </body></html>,\n",
       " <head><title>This is a python demo page</title></head>,\n",
       " <title>This is a python demo page</title>,\n",
       " <body>\n",
       " <p class=\"title\"><b>The demo python introduces several python courses.</b></p>\n",
       " <p class=\"course\">Python is a wonderful general-purpose programming language. You can learn Python from novice to professional by tracking the following courses:\n",
       " <a class=\"py1\" href=\"http://www.icourse163.org/course/BIT-268001\" id=\"link1\">Basic Python</a> and <a class=\"py2\" href=\"http://www.icourse163.org/course/BIT-1001870001\" id=\"link2\">Advanced Python</a>.</p>\n",
       " </body>,\n",
       " <p class=\"title\"><b>The demo python introduces several python courses.</b></p>,\n",
       " <b>The demo python introduces several python courses.</b>,\n",
       " <p class=\"course\">Python is a wonderful general-purpose programming language. You can learn Python from novice to professional by tracking the following courses:\n",
       " <a class=\"py1\" href=\"http://www.icourse163.org/course/BIT-268001\" id=\"link1\">Basic Python</a> and <a class=\"py2\" href=\"http://www.icourse163.org/course/BIT-1001870001\" id=\"link2\">Advanced Python</a>.</p>,\n",
       " <a class=\"py1\" href=\"http://www.icourse163.org/course/BIT-268001\" id=\"link1\">Basic Python</a>,\n",
       " <a class=\"py2\" href=\"http://www.icourse163.org/course/BIT-1001870001\" id=\"link2\">Advanced Python</a>]"
      ]
     },
     "execution_count": 12,
     "metadata": {},
     "output_type": "execute_result"
    }
   ],
   "source": [
    "soup.find_all(True)"
   ]
  },
  {
   "cell_type": "code",
   "execution_count": 13,
   "id": "091416ab",
   "metadata": {},
   "outputs": [
    {
     "data": {
      "text/plain": [
       "<html><head><title>This is a python demo page</title></head>\n",
       "<body>\n",
       "<p class=\"title\"><b>The demo python introduces several python courses.</b></p>\n",
       "<p class=\"course\">Python is a wonderful general-purpose programming language. You can learn Python from novice to professional by tracking the following courses:\n",
       "<a class=\"py1\" href=\"http://www.icourse163.org/course/BIT-268001\" id=\"link1\">Basic Python</a> and <a class=\"py2\" href=\"http://www.icourse163.org/course/BIT-1001870001\" id=\"link2\">Advanced Python</a>.</p>\n",
       "</body></html>"
      ]
     },
     "execution_count": 13,
     "metadata": {},
     "output_type": "execute_result"
    }
   ],
   "source": [
    "soup\n"
   ]
  },
  {
   "cell_type": "code",
   "execution_count": 14,
   "id": "bdd51705",
   "metadata": {},
   "outputs": [
    {
     "data": {
      "text/plain": [
       "<p class=\"title\"><b>The demo python introduces several python courses.</b></p>"
      ]
     },
     "execution_count": 14,
     "metadata": {},
     "output_type": "execute_result"
    }
   ],
   "source": [
    "soup.find('p')"
   ]
  },
  {
   "cell_type": "code",
   "execution_count": 15,
   "id": "cc39c0cc",
   "metadata": {},
   "outputs": [
    {
     "data": {
      "text/plain": [
       "<p class=\"title\"><b>The demo python introduces several python courses.</b></p>"
      ]
     },
     "execution_count": 15,
     "metadata": {},
     "output_type": "execute_result"
    }
   ],
   "source": [
    "soup.find('p','title')"
   ]
  },
  {
   "cell_type": "code",
   "execution_count": 16,
   "id": "80d9c8be",
   "metadata": {},
   "outputs": [],
   "source": [
    "soup.find('p','a')"
   ]
  },
  {
   "cell_type": "code",
   "execution_count": 19,
   "id": "844345b1",
   "metadata": {},
   "outputs": [
    {
     "data": {
      "text/plain": [
       "[<p class=\"title\"><b>The demo python introduces several python courses.</b></p>,\n",
       " <p class=\"course\">Python is a wonderful general-purpose programming language. You can learn Python from novice to professional by tracking the following courses:\n",
       " <a class=\"py1\" href=\"http://www.icourse163.org/course/BIT-268001\" id=\"link1\">Basic Python</a> and <a class=\"py2\" href=\"http://www.icourse163.org/course/BIT-1001870001\" id=\"link2\">Advanced Python</a>.</p>,\n",
       " <a class=\"py1\" href=\"http://www.icourse163.org/course/BIT-268001\" id=\"link1\">Basic Python</a>,\n",
       " <a class=\"py2\" href=\"http://www.icourse163.org/course/BIT-1001870001\" id=\"link2\">Advanced Python</a>]"
      ]
     },
     "execution_count": 19,
     "metadata": {},
     "output_type": "execute_result"
    }
   ],
   "source": [
    "soup.find_all(['p','a'])"
   ]
  },
  {
   "cell_type": "code",
   "execution_count": 23,
   "id": "9e5c20d6",
   "metadata": {},
   "outputs": [
    {
     "data": {
      "text/plain": [
       "[<p class=\"title\"><b>The demo python introduces several python courses.</b></p>]"
      ]
     },
     "execution_count": 23,
     "metadata": {},
     "output_type": "execute_result"
    }
   ],
   "source": [
    "soup.find_all('p',\"title\")"
   ]
  },
  {
   "cell_type": "code",
   "execution_count": 24,
   "id": "90102208",
   "metadata": {},
   "outputs": [
    {
     "data": {
      "text/plain": [
       "[<a class=\"py1\" href=\"http://www.icourse163.org/course/BIT-268001\" id=\"link1\">Basic Python</a>]"
      ]
     },
     "execution_count": 24,
     "metadata": {},
     "output_type": "execute_result"
    }
   ],
   "source": [
    "soup.find_all('a',\"py1\")"
   ]
  },
  {
   "cell_type": "code",
   "execution_count": 25,
   "id": "7173ac1c",
   "metadata": {},
   "outputs": [
    {
     "data": {
      "text/plain": [
       "[]"
      ]
     },
     "execution_count": 25,
     "metadata": {},
     "output_type": "execute_result"
    }
   ],
   "source": [
    "soup.find_all('a',\"http://www.icourse163.org/course/BIT-268001\")"
   ]
  },
  {
   "cell_type": "code",
   "execution_count": 26,
   "id": "9a71728b",
   "metadata": {},
   "outputs": [
    {
     "data": {
      "text/plain": [
       "[<a class=\"py1\" href=\"http://www.icourse163.org/course/BIT-268001\" id=\"link1\">Basic Python</a>]"
      ]
     },
     "execution_count": 26,
     "metadata": {},
     "output_type": "execute_result"
    }
   ],
   "source": [
    "soup.find_all('a',href=\"http://www.icourse163.org/course/BIT-268001\")"
   ]
  },
  {
   "cell_type": "code",
   "execution_count": 27,
   "id": "3891ec0a",
   "metadata": {},
   "outputs": [
    {
     "data": {
      "text/plain": [
       "[<a class=\"py1\" href=\"http://www.icourse163.org/course/BIT-268001\" id=\"link1\">Basic Python</a>]"
      ]
     },
     "execution_count": 27,
     "metadata": {},
     "output_type": "execute_result"
    }
   ],
   "source": [
    "soup.find_all('a',id='link1')"
   ]
  },
  {
   "cell_type": "code",
   "execution_count": 28,
   "id": "8166d79e",
   "metadata": {},
   "outputs": [
    {
     "data": {
      "text/plain": [
       "[]"
      ]
     },
     "execution_count": 28,
     "metadata": {},
     "output_type": "execute_result"
    }
   ],
   "source": [
    "soup.find_all('a','link1')"
   ]
  },
  {
   "cell_type": "code",
   "execution_count": 30,
   "id": "c1826816",
   "metadata": {},
   "outputs": [
    {
     "data": {
      "text/plain": [
       "[<a class=\"py1\" href=\"http://www.icourse163.org/course/BIT-268001\" id=\"link1\">Basic Python</a>]"
      ]
     },
     "execution_count": 30,
     "metadata": {},
     "output_type": "execute_result"
    }
   ],
   "source": [
    "soup.find_all('a',{\"id\":'link1'})"
   ]
  },
  {
   "cell_type": "code",
   "execution_count": 31,
   "id": "3e6f911f",
   "metadata": {},
   "outputs": [
    {
     "data": {
      "text/plain": [
       "[<a class=\"py1\" href=\"http://www.icourse163.org/course/BIT-268001\" id=\"link1\">Basic Python</a>]"
      ]
     },
     "execution_count": 31,
     "metadata": {},
     "output_type": "execute_result"
    }
   ],
   "source": [
    "soup.find_all('a',{\"class\":'py1'})"
   ]
  },
  {
   "cell_type": "code",
   "execution_count": 32,
   "id": "df0abd19",
   "metadata": {},
   "outputs": [
    {
     "data": {
      "text/plain": [
       "<html><head><title>This is a python demo page</title></head>\n",
       "<body>\n",
       "<p class=\"title\"><b>The demo python introduces several python courses.</b></p>\n",
       "<p class=\"course\">Python is a wonderful general-purpose programming language. You can learn Python from novice to professional by tracking the following courses:\n",
       "<a class=\"py1\" href=\"http://www.icourse163.org/course/BIT-268001\" id=\"link1\">Basic Python</a> and <a class=\"py2\" href=\"http://www.icourse163.org/course/BIT-1001870001\" id=\"link2\">Advanced Python</a>.</p>\n",
       "</body></html>"
      ]
     },
     "execution_count": 32,
     "metadata": {},
     "output_type": "execute_result"
    }
   ],
   "source": [
    "soup"
   ]
  },
  {
   "cell_type": "code",
   "execution_count": 33,
   "id": "30a3bc66",
   "metadata": {},
   "outputs": [
    {
     "data": {
      "text/plain": [
       "[<a class=\"py1\" href=\"http://www.icourse163.org/course/BIT-268001\" id=\"link1\">Basic Python</a>,\n",
       " <a class=\"py2\" href=\"http://www.icourse163.org/course/BIT-1001870001\" id=\"link2\">Advanced Python</a>]"
      ]
     },
     "execution_count": 33,
     "metadata": {},
     "output_type": "execute_result"
    }
   ],
   "source": [
    "import re \n",
    "soup.find_all(id=re.compile('link'))\n"
   ]
  },
  {
   "cell_type": "code",
   "execution_count": 34,
   "id": "d316e010",
   "metadata": {},
   "outputs": [
    {
     "data": {
      "text/plain": [
       "[<a class=\"py1\" href=\"http://www.icourse163.org/course/BIT-268001\" id=\"link1\">Basic Python</a>,\n",
       " <a class=\"py2\" href=\"http://www.icourse163.org/course/BIT-1001870001\" id=\"link2\">Advanced Python</a>]"
      ]
     },
     "execution_count": 34,
     "metadata": {},
     "output_type": "execute_result"
    }
   ],
   "source": [
    "soup.find_all('a')\n",
    "\n"
   ]
  },
  {
   "cell_type": "code",
   "execution_count": 37,
   "id": "21c868bc",
   "metadata": {},
   "outputs": [
    {
     "data": {
      "text/plain": [
       "[<p class=\"title\"><b>The demo python introduces several python courses.</b></p>,\n",
       " <p class=\"course\">Python is a wonderful general-purpose programming language. You can learn Python from novice to professional by tracking the following courses:\n",
       " <a class=\"py1\" href=\"http://www.icourse163.org/course/BIT-268001\" id=\"link1\">Basic Python</a> and <a class=\"py2\" href=\"http://www.icourse163.org/course/BIT-1001870001\" id=\"link2\">Advanced Python</a>.</p>]"
      ]
     },
     "execution_count": 37,
     "metadata": {},
     "output_type": "execute_result"
    }
   ],
   "source": [
    "soup.find_all('p',recursive=True)  #直接子节点"
   ]
  },
  {
   "cell_type": "code",
   "execution_count": 38,
   "id": "88735849",
   "metadata": {},
   "outputs": [
    {
     "data": {
      "text/plain": [
       "<html><head><title>This is a python demo page</title></head>\n",
       "<body>\n",
       "<p class=\"title\"><b>The demo python introduces several python courses.</b></p>\n",
       "<p class=\"course\">Python is a wonderful general-purpose programming language. You can learn Python from novice to professional by tracking the following courses:\n",
       "<a class=\"py1\" href=\"http://www.icourse163.org/course/BIT-268001\" id=\"link1\">Basic Python</a> and <a class=\"py2\" href=\"http://www.icourse163.org/course/BIT-1001870001\" id=\"link2\">Advanced Python</a>.</p>\n",
       "</body></html>"
      ]
     },
     "execution_count": 38,
     "metadata": {},
     "output_type": "execute_result"
    }
   ],
   "source": [
    "soup"
   ]
  },
  {
   "cell_type": "code",
   "execution_count": 40,
   "id": "e2e562ce",
   "metadata": {},
   "outputs": [
    {
     "data": {
      "text/plain": [
       "['Basic Python']"
      ]
     },
     "execution_count": 40,
     "metadata": {},
     "output_type": "execute_result"
    }
   ],
   "source": [
    "soup.find_all(string='Basic Python')\n"
   ]
  },
  {
   "cell_type": "code",
   "execution_count": 41,
   "id": "126951d4",
   "metadata": {},
   "outputs": [
    {
     "data": {
      "text/plain": [
       "[<a class=\"py1\" href=\"http://www.icourse163.org/course/BIT-268001\" id=\"link1\">Basic Python</a>,\n",
       " <a class=\"py2\" href=\"http://www.icourse163.org/course/BIT-1001870001\" id=\"link2\">Advanced Python</a>]"
      ]
     },
     "execution_count": 41,
     "metadata": {},
     "output_type": "execute_result"
    }
   ],
   "source": [
    "soup('a')"
   ]
  },
  {
   "cell_type": "code",
   "execution_count": 42,
   "id": "0cc8defc",
   "metadata": {},
   "outputs": [
    {
     "data": {
      "text/plain": [
       "<a class=\"py1\" href=\"http://www.icourse163.org/course/BIT-268001\" id=\"link1\">Basic Python</a>"
      ]
     },
     "execution_count": 42,
     "metadata": {},
     "output_type": "execute_result"
    }
   ],
   "source": [
    "soup.a"
   ]
  },
  {
   "cell_type": "code",
   "execution_count": null,
   "id": "32d15bce",
   "metadata": {},
   "outputs": [],
   "source": []
  },
  {
   "cell_type": "code",
   "execution_count": 49,
   "id": "76f0ce5c",
   "metadata": {
    "scrolled": true
   },
   "outputs": [],
   "source": [
    "import requests\n",
    "url='http://bbs.tianya.cn/hotArticle.jsp?pn=1'\n",
    "resp=requests.get(url)\n",
    "r.raise_for_status()  #产生异常信息\n",
    "r.encoding=r.apparent_encoding"
   ]
  },
  {
   "cell_type": "code",
   "execution_count": 51,
   "id": "92d96a32",
   "metadata": {},
   "outputs": [
    {
     "ename": "TypeError",
     "evalue": "object of type 'Response' has no len()",
     "output_type": "error",
     "traceback": [
      "\u001b[1;31m---------------------------------------------------------------------------\u001b[0m",
      "\u001b[1;31mTypeError\u001b[0m                                 Traceback (most recent call last)",
      "\u001b[1;32m~\\AppData\\Local\\Temp/ipykernel_13076/2716114279.py\u001b[0m in \u001b[0;36m<module>\u001b[1;34m\u001b[0m\n\u001b[0;32m      1\u001b[0m \u001b[1;32mfrom\u001b[0m \u001b[0mbs4\u001b[0m \u001b[1;32mimport\u001b[0m \u001b[0mBeautifulSoup\u001b[0m\u001b[1;33m\u001b[0m\u001b[1;33m\u001b[0m\u001b[0m\n\u001b[1;32m----> 2\u001b[1;33m \u001b[0msoup\u001b[0m\u001b[1;33m=\u001b[0m\u001b[0mBeautifulSoup\u001b[0m\u001b[1;33m(\u001b[0m\u001b[0mresp\u001b[0m\u001b[1;33m,\u001b[0m\u001b[1;34m\"html.parser\"\u001b[0m\u001b[1;33m)\u001b[0m\u001b[1;33m\u001b[0m\u001b[1;33m\u001b[0m\u001b[0m\n\u001b[0m\u001b[0;32m      3\u001b[0m \u001b[0msoup\u001b[0m\u001b[1;33m\u001b[0m\u001b[1;33m\u001b[0m\u001b[0m\n",
      "\u001b[1;32mh:\\python39\\lib\\site-packages\\bs4\\__init__.py\u001b[0m in \u001b[0;36m__init__\u001b[1;34m(self, markup, features, builder, parse_only, from_encoding, exclude_encodings, element_classes, **kwargs)\u001b[0m\n\u001b[0;32m    308\u001b[0m         \u001b[1;32mif\u001b[0m \u001b[0mhasattr\u001b[0m\u001b[1;33m(\u001b[0m\u001b[0mmarkup\u001b[0m\u001b[1;33m,\u001b[0m \u001b[1;34m'read'\u001b[0m\u001b[1;33m)\u001b[0m\u001b[1;33m:\u001b[0m        \u001b[1;31m# It's a file-type object.\u001b[0m\u001b[1;33m\u001b[0m\u001b[1;33m\u001b[0m\u001b[0m\n\u001b[0;32m    309\u001b[0m             \u001b[0mmarkup\u001b[0m \u001b[1;33m=\u001b[0m \u001b[0mmarkup\u001b[0m\u001b[1;33m.\u001b[0m\u001b[0mread\u001b[0m\u001b[1;33m(\u001b[0m\u001b[1;33m)\u001b[0m\u001b[1;33m\u001b[0m\u001b[1;33m\u001b[0m\u001b[0m\n\u001b[1;32m--> 310\u001b[1;33m         elif len(markup) <= 256 and (\n\u001b[0m\u001b[0;32m    311\u001b[0m                 \u001b[1;33m(\u001b[0m\u001b[0misinstance\u001b[0m\u001b[1;33m(\u001b[0m\u001b[0mmarkup\u001b[0m\u001b[1;33m,\u001b[0m \u001b[0mbytes\u001b[0m\u001b[1;33m)\u001b[0m \u001b[1;32mand\u001b[0m \u001b[1;32mnot\u001b[0m \u001b[1;34mb'<'\u001b[0m \u001b[1;32min\u001b[0m \u001b[0mmarkup\u001b[0m\u001b[1;33m)\u001b[0m\u001b[1;33m\u001b[0m\u001b[1;33m\u001b[0m\u001b[0m\n\u001b[0;32m    312\u001b[0m                 \u001b[1;32mor\u001b[0m \u001b[1;33m(\u001b[0m\u001b[0misinstance\u001b[0m\u001b[1;33m(\u001b[0m\u001b[0mmarkup\u001b[0m\u001b[1;33m,\u001b[0m \u001b[0mstr\u001b[0m\u001b[1;33m)\u001b[0m \u001b[1;32mand\u001b[0m \u001b[1;32mnot\u001b[0m \u001b[1;34m'<'\u001b[0m \u001b[1;32min\u001b[0m \u001b[0mmarkup\u001b[0m\u001b[1;33m)\u001b[0m\u001b[1;33m\u001b[0m\u001b[1;33m\u001b[0m\u001b[0m\n",
      "\u001b[1;31mTypeError\u001b[0m: object of type 'Response' has no len()"
     ]
    }
   ],
   "source": [
    "from bs4 import BeautifulSoup\n",
    "soup=BeautifulSoup(resp.text,\"html.parser\")\n",
    "soup"
   ]
  },
  {
   "cell_type": "code",
   "execution_count": 52,
   "id": "76f4a994",
   "metadata": {},
   "outputs": [],
   "source": [
    "import requests\n",
    "from bs4 import BeautifulSoup\n",
    "import bs4\n",
    "import csv\n",
    "url = 'http://bbs.tianya.cn/hotArticle.jsp?pn=1'\n",
    "r=requests.get(url, timeout=30)\n",
    "r.raise_for_status()  #产生异常信息\n",
    "r.encoding=r.apparent_encoding\n",
    "soup=BeautifulSoup(r.text,\"html.parser\")"
   ]
  },
  {
   "cell_type": "code",
   "execution_count": 56,
   "id": "472c459b",
   "metadata": {},
   "outputs": [
    {
     "name": "stdout",
     "output_type": "stream",
     "text": [
      "[饮食男女]一盒月饼引发的新帖。。。  十豆三凢\n",
      "[国际观察]晚舟归航！欢迎孟晚舟回到家人身边！  蝴蝶兒\n",
      "[海南发展]海南免税店的苹果手机为什么这么贵？？  保利尼奥1\n",
      "[天涯杂谈]我已经45岁了，还有必要生个二胎养老送终吗？  国民农民\n",
      "[海南发展]海南人民一年究竟吃多少只鸡？  baby087\n",
      "[职场天地]记录我在某大型央企工作生活的点滴历程  ty_泰乐242\n",
      "[情感天地]我谈了一 个 女朋友她，深接触 她外债欠了12W多我该怎办？  小航爱生活1990\n",
      "[婆媳关系]婆婆来到我的家，感觉生活充满了阳光  旧巷情怀\n",
      "[影视评论]【大家来投票】2021国庆档期电影有哪些？11部电影接踵而至，你最想看哪部呢？  cindy_gz\n",
      "[天涯银河]《鸽猫灵异短篇故事馆》一一不定期更新中，欢迎参观！  甜筒来福猫\n",
      "[红袖天涯]【天涯热帖推荐】选择大于勤奋  绿凌霄\n",
      "[红袖天涯]【天涯热帖】人生有味是清欢__九月美食季连载  诗情画意过一生\n",
      "[天涯杂谈]我来说说家委会【热议】  dew1128\n",
      "[贴图专区]【搞笑漫画】原始社会打工人酸甜苦辣的内卷趣事  我是毛大海\n",
      "[莲蓬鬼话]源之镜——短篇灵异小故事  绿姨\n",
      "[海外华人]德国生活杂记——起笔于21.09.2021  ty_人在旅途994\n",
      "[情感天地]姐妹们帮我看看，42岁，离婚2年，财务半自由，我还需要再婚吗？  没心没肺YE\n",
      "[红袖天涯]【天涯热帖推荐】爱你一切及其他  一笔情话\n",
      "[摄影贴图]五味杂陈一一神奇泰国  的之士\n",
      "[娱乐八卦]追忆2002年40集古装武侠剧《萧十一郎》的江湖梦想  ty_深深深蓝655\n",
      "[娱乐八卦]八一八各大品牌2021年秋冬的高定系列  六桥梅花香彻骨\n",
      "[旅游休闲]耄耋之年终圆梦，租辆房车游滇川一一83岁老汉旅游日记  晚霞无限美\n",
      "[情感天地]四年了，还是走到离婚协议中......  sunny11230\n",
      "[三十不嫁]和91年的大龄剩女的聊天记录，请问她三观正常吗？  雨夜的梧桐树\n",
      "[天涯杂谈]油价贵吗 可以说很贵  几乎到了开不起车的天花板了【热议】  zq2934481\n",
      "[情感天地]老年父母（78和75岁）想离婚，有同样境况的朋友吗？  家事一萝筐\n",
      "[天涯银河]《心理咨询师手记》一一神秘的心理咨询师，神奇的技能，暗藏玄机的故事……  o雪语星枫o\n",
      "[天涯杂谈]小公务员辞职第一站 --------黄河追踪！  暗夜孤郎行\n",
      "[娱乐八卦]工程巨大——图文开八《父母爱情》  大仁哥你妹\n",
      "[生活那点事]做个俗人，贪财好色，一身正气  美味糖鬼屋\n",
      "[天涯杂谈]西安一女子被地铁保安拖拽下车！律师：保安无权强制带离【热议】  乡村乡情都市生活\n",
      "[天涯杂谈]70后打工30年后的日子  社区农民工\n",
      "[房产观澜]我燕郊的房子，要不要割肉卖出？  geotech\n",
      "[情感天地]奔五的路上，我离婚了  agrochemicals\n",
      "[婆媳关系]儿子上大学，给多少生活费合适？  千叶多余\n",
      "[天涯银河]《倩影惊梦》：恐怖悬疑揭秘，层层剥开惊天大阴谋！（连载中）  金火地\n",
      "[生活那点事]老公瞒我给公婆买房，我该不该离婚？  grace2016010101\n",
      "[娱乐八卦][古典审美帖]中国传统美人的形象演化  天行w吾乃蛮夷j\n",
      "[天涯杂谈]学生带牛奶入校被拒，面对无助为何没触动校方？【热议】  kei1341662318\n",
      "[婆媳关系]中秋节过节费发多少  saberta8666\n",
      "[情感天地]明年四十岁了，我要和这个倒追我的女生结婚吗？  雨夜的梧桐树\n",
      "[婆媳关系]弟媳妇间接因为我要离婚，大姑姐怎么做才能合格？谢绝转载  何处芳草不天丫\n",
      "[情感天地]二十年婚姻，假离婚后，孩子爸偷偷领证  亭亭山上松2018\n",
      "[家有学童]高考大潮退去，裸泳的都是陪读家长！  雁起箫乱\n",
      "[娱乐八卦]【赵薇事件天涯历年高楼贴汇聚】赵薇在微博的超话被封，多部出演的作品除名，她出啥事了？  Niclau424\n",
      "[娱乐八卦]有人在追《扫黑风暴》的吗？好看吗？大家来投票  非常好猫\n",
      "[天涯杂谈]奔5书呆的唠叨：回忆与杂记  瓦露\n",
      "[婆媳关系]听说2015年是婆媳的高光时刻  桑妙旋\n",
      "[婆媳关系]藏私房钱的婚姻是可悲的。  gsyzjxxzsbnzxxwz\n",
      "[长江杂谈]【缅怀逝去的青春】诸事不宜（11）  草帽的思想\n",
      "[情感天地]相亲碰到的恶心事  泥鳅也是鱼2021\n",
      "[饮食男女]为爱逃离帝都--记录陪读妈妈の日子里  卟要恋de猫\n",
      "[娱乐八卦]【鹅组】鹅组的请集合，报数  薄荷小猫\n",
      "[贴图专区]【种花种菜】迷茫，省嘴夺牙把孩子送进最贵的私立幼儿园，值么？  种花种菜2018\n",
      "[贴图专区]【老勇视角】【苏州园林“借景”之美赏析：1、心醉拙政园  无锡勇志成\n",
      "[旅游休闲]浓郁藏情看川西  顺顺202006\n",
      "[贴图专区]【老勇视角】【无锡名人故居】华君武前辈魂牵故里，漫画集作在祖居生辉  无锡勇志成\n",
      "[娱乐八卦]震惊！湖南卫视知名主持人钱枫疑似被指控强奸！！  hebbehuang\n",
      "[国际观察]法国这次很生气，会不再把美英当盟友，转而拥抱俄罗斯吗？  一塘荷叶\n",
      "[生活那点事]你眼里有光，无处不五彩斑斓  枫铃摇曳\n",
      "[生活那点事]全职七年再出发，二胎妈妈的工作，育儿，减肥，生活小记  星晴LJL\n",
      "[长江杂谈]古北水镇游记  偶兜兜有奶糖\n",
      "[生活那点事]丧偶后三年，记录应该走过的生活  我有你珍惜\n",
      "[家有学童]我在家委会的日子里  developer2019\n",
      "[球迷一家]为什么中国足球跟日本差距这么大？  long275275\n",
      "[娱乐八卦]还有同好没，建一个欧美明星街拍楼  阳台下的懒猫\n",
      "[旅游休闲]遍地国宝的晋中——短短两天的旅行一样收获满满  lovestar\n",
      "[天涯杂谈]我来说说培训机构被取消的真正原因--利益【热议】  骑龟找工作\n",
      "[球迷一家]一枚普通球迷聊聊中国足球  eleyty\n",
      "[情感天地]中年单亲爸爸和儿子的生活点滴  freedd2021\n",
      "[创业家园]在广州开了十年的鞋厂 一年比一年难  wang_nemo\n",
      "[海外华人]记我在纽約市做特教老师的日子。  Adventuress2009\n",
      "[天涯银河]揉碎花笺，忍写断肠句——读南宋诗人戴复古妻之词《祝英台近》之感怀  红硝\n",
      "[天涯杂谈]农村娃90后，进城打工，买房装修记录贴  狼鹰金融\n",
      "[娱乐八卦]吴亦凡被批捕  Niclau424\n",
      "[生活那点事]和岳父岳母一起生活后，才知道自己父母原来那么优秀  小哥哥K6\n",
      "[煮酒论史]《大国雄心》——以轻松的语言，历数全球化以来世界头号强国的兴衰更替史  多维Dovic\n",
      "[娱乐八卦]新手指南向，欢迎各位豆瓣er来天涯玩  凤梨凤我是菠萝\n",
      "[婆媳关系]济南警方关于阿里女员工的警情通报出来了  那达生\n",
      "[房产观澜]关于房产税的几点猜想  觀書半車\n",
      "[房产观澜]县级市买的房子，便宜了，想卖卖不掉。  搞死馒头\n",
      "[娱乐八卦]泰国明星娱乐八卦大杂烩  头号天仙\n",
      "[三十不嫁]女生们，你们说说彩礼到底多少是合适。  wangwei1324521\n",
      "[开心乐园]截然不同的《邻家小伙儿漫戗毛》——张漫鵟  蓝色海湾2020\n",
      "[天涯银河]浓缩就是精华：一句话微小说竞赛(获奖作品公示中)  大槐公主\n",
      "[创业家园]我在重庆做包租公  新少年包租公\n",
      "[贴图专区]【土家寒烟】把艰辛的生活过得阳光灿烂，记录我的一日两餐  寒烟若黛\n",
      "[时尚资讯]时尚大牌穿搭看这里！！！！！  paula1990\n",
      "[三十不嫁]谈谈农村教育的现状，忧心啊  襄阳凌飞子\n",
      "[长江杂谈]【论坛头条推荐】由对林仙儿的刻画浅谈古龙的女人观  薛痒\n",
      "[煮酒论史]史说三国：以史实讲三国  秦时汉唐\n",
      "[海外华人]记载我的荷兰生活  zq1256\n",
      "[旅游休闲]唐玄奘与成都大慈寺及其他（图文）  罗锡文\n",
      "[红袖天涯]【天涯热帖推荐】我喜欢的10本短篇小说集  停云诗成\n",
      "[创业家园]五金机电经营部的日常  wtHAZ\n",
      "[旅游休闲]岁月向暖，记录生活和旅行中的点滴  流年之2020\n",
      "[饮食男女]春华秋实，朝南小屋，三餐四季，不急不徐。  蓝树树\n",
      "[娱乐八卦]爱国是底线！演员张哲瀚发旭日旗、合影反华头子、参观靖国神厕等  开心爱星河pOe\n",
      "[生活那点事]风起风落，吹过这个过野的青春！  七月荼蘼503\n"
     ]
    }
   ],
   "source": [
    "    for i in soup.find_all('tbody'):\n",
    "        for tr in i:\n",
    "            if isinstance(tr,bs4.element.Tag):\n",
    "                tds=tr('a')   #tds=tr('td')\n",
    "                if tds !=[]:\n",
    "                    print(tds[0].string,tds[1].string)"
   ]
  },
  {
   "cell_type": "code",
   "execution_count": null,
   "id": "aa44ccf9",
   "metadata": {},
   "outputs": [],
   "source": []
  }
 ],
 "metadata": {
  "kernelspec": {
   "display_name": "Python 3 (ipykernel)",
   "language": "python",
   "name": "python3"
  },
  "language_info": {
   "codemirror_mode": {
    "name": "ipython",
    "version": 3
   },
   "file_extension": ".py",
   "mimetype": "text/x-python",
   "name": "python",
   "nbconvert_exporter": "python",
   "pygments_lexer": "ipython3",
   "version": "3.9.6"
  }
 },
 "nbformat": 4,
 "nbformat_minor": 5
}
