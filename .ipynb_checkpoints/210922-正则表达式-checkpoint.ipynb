{
 "cells": [
  {
   "cell_type": "code",
   "execution_count": 1,
   "id": "b9798b0c",
   "metadata": {},
   "outputs": [
    {
     "name": "stdout",
     "output_type": "stream",
     "text": [
      "430074\n"
     ]
    }
   ],
   "source": [
    "import re\n",
    "match=re.search(r'[1-9]\\d{5}','WHU 430074')\n",
    "if match:\n",
    "    print(match.group(0))\n"
   ]
  },
  {
   "cell_type": "code",
   "execution_count": 21,
   "id": "091657fa",
   "metadata": {},
   "outputs": [],
   "source": [
    "import re\n",
    "match=re.search(r'[1-9]\\d{5}','WHU 430074')"
   ]
  },
  {
   "cell_type": "code",
   "execution_count": 3,
   "id": "5fa93efc",
   "metadata": {},
   "outputs": [
    {
     "data": {
      "text/plain": [
       "<re.Match object; span=(4, 10), match='430074'>"
      ]
     },
     "execution_count": 3,
     "metadata": {},
     "output_type": "execute_result"
    }
   ],
   "source": [
    "match"
   ]
  },
  {
   "cell_type": "code",
   "execution_count": 22,
   "id": "33048469",
   "metadata": {},
   "outputs": [
    {
     "data": {
      "text/plain": [
       "'430074'"
      ]
     },
     "execution_count": 22,
     "metadata": {},
     "output_type": "execute_result"
    }
   ],
   "source": [
    "match.group(0)"
   ]
  },
  {
   "cell_type": "code",
   "execution_count": 20,
   "id": "c1f4310f",
   "metadata": {},
   "outputs": [],
   "source": [
    "import re\n",
    "match = re.match(r'[1-9]\\d{5}', 'whu 430074')\n",
    "if match:\n",
    "    print(match.group(0))\n"
   ]
  },
  {
   "cell_type": "code",
   "execution_count": 7,
   "id": "5fe73648",
   "metadata": {},
   "outputs": [
    {
     "data": {
      "text/plain": [
       "['430074', '430072']"
      ]
     },
     "execution_count": 7,
     "metadata": {},
     "output_type": "execute_result"
    }
   ],
   "source": [
    "import re\n",
    "ls = re.findall(r'[1-9]\\d{5}', 'whu 430074  hust 430072')\n",
    "ls\n"
   ]
  },
  {
   "cell_type": "code",
   "execution_count": 10,
   "id": "b864a564",
   "metadata": {},
   "outputs": [],
   "source": [
    "import re\n",
    "ls = re.split(r'[1-9]\\d{5}', 'whu 430074  hust 430072')\n",
    "#[‘whu', ' hust', '']\n"
   ]
  },
  {
   "cell_type": "code",
   "execution_count": 11,
   "id": "bb388cae",
   "metadata": {},
   "outputs": [
    {
     "data": {
      "text/plain": [
       "['whu ', '  hust ', '']"
      ]
     },
     "execution_count": 11,
     "metadata": {},
     "output_type": "execute_result"
    }
   ],
   "source": [
    "ls"
   ]
  },
  {
   "cell_type": "code",
   "execution_count": 14,
   "id": "4cf5319d",
   "metadata": {},
   "outputs": [],
   "source": [
    "import re\n",
    "ls= re.finditer(r'[1-9]\\d{5}', 'whu 430074  hust 430072 ')\n",
    "\n"
   ]
  },
  {
   "cell_type": "code",
   "execution_count": 15,
   "id": "e74d8114",
   "metadata": {},
   "outputs": [
    {
     "data": {
      "text/plain": [
       "<callable_iterator at 0x1b6b62c5c40>"
      ]
     },
     "execution_count": 15,
     "metadata": {},
     "output_type": "execute_result"
    }
   ],
   "source": [
    "ls"
   ]
  },
  {
   "cell_type": "code",
   "execution_count": 19,
   "id": "eeecacc0",
   "metadata": {},
   "outputs": [],
   "source": [
    "import re\n",
    "match = re.match(r'[1-9]\\d{5}', 'whu 430074')\n",
    "if match:\n",
    "    print(match.group(0))"
   ]
  },
  {
   "cell_type": "code",
   "execution_count": 23,
   "id": "d73060c6",
   "metadata": {},
   "outputs": [
    {
     "data": {
      "text/plain": [
       "re.Match"
      ]
     },
     "execution_count": 23,
     "metadata": {},
     "output_type": "execute_result"
    }
   ],
   "source": [
    "import re\n",
    "match=re.search(r'[1-9]\\d{5}','WHU 430074')\n",
    "type(match)"
   ]
  },
  {
   "cell_type": "code",
   "execution_count": 25,
   "id": "a10f1b4f",
   "metadata": {},
   "outputs": [
    {
     "data": {
      "text/plain": [
       "'WHU 430074'"
      ]
     },
     "execution_count": 25,
     "metadata": {},
     "output_type": "execute_result"
    }
   ],
   "source": [
    "match.string"
   ]
  },
  {
   "cell_type": "code",
   "execution_count": 26,
   "id": "ab35399e",
   "metadata": {},
   "outputs": [
    {
     "data": {
      "text/plain": [
       "re.compile(r'[1-9]\\d{5}', re.UNICODE)"
      ]
     },
     "execution_count": 26,
     "metadata": {},
     "output_type": "execute_result"
    }
   ],
   "source": [
    "match.re"
   ]
  },
  {
   "cell_type": "code",
   "execution_count": 28,
   "id": "f8b962f7",
   "metadata": {},
   "outputs": [
    {
     "data": {
      "text/plain": [
       "0"
      ]
     },
     "execution_count": 28,
     "metadata": {},
     "output_type": "execute_result"
    }
   ],
   "source": [
    "match.pos"
   ]
  },
  {
   "cell_type": "code",
   "execution_count": 29,
   "id": "1d417d98",
   "metadata": {},
   "outputs": [
    {
     "data": {
      "text/plain": [
       "10"
      ]
     },
     "execution_count": 29,
     "metadata": {},
     "output_type": "execute_result"
    }
   ],
   "source": [
    "match.pos"
   ]
  },
  {
   "cell_type": "code",
   "execution_count": 30,
   "id": "18004a2e",
   "metadata": {},
   "outputs": [
    {
     "name": "stdout",
     "output_type": "stream",
     "text": [
      "['35-3-401', '25-7-330-7-2568', '01-48-401-32']\n"
     ]
    }
   ],
   "source": [
    "s='产品A01的序列号是35-3-401，B35序列号25-7-330-7-2568，产品C09的序列号是：01-48-401-32。'\n",
    "import re\n",
    "a=re.findall('\\d+(?:-\\d+)+',s)\n",
    "print(a)\n",
    "\n"
   ]
  },
  {
   "cell_type": "code",
   "execution_count": 33,
   "id": "3425fb03",
   "metadata": {},
   "outputs": [
    {
     "name": "stdout",
     "output_type": "stream",
     "text": [
      "['3', '401']\n",
      "['7', '330', '7', '2568']\n",
      "['48', '401', '32']\n"
     ]
    }
   ],
   "source": [
    "for i in a:\n",
    "    b=re.findall('-(\\d+)',i)\n",
    "    print(b)\n"
   ]
  },
  {
   "cell_type": "code",
   "execution_count": 34,
   "id": "b020262f",
   "metadata": {},
   "outputs": [
    {
     "data": {
      "text/plain": [
       "['我', '我']"
      ]
     },
     "execution_count": 34,
     "metadata": {},
     "output_type": "execute_result"
    }
   ],
   "source": [
    "a='我是谁，我是'\n",
    "b=re.findall('我',a)\n",
    "b"
   ]
  },
  {
   "cell_type": "code",
   "execution_count": 35,
   "id": "1ef520c4",
   "metadata": {},
   "outputs": [
    {
     "name": "stdout",
     "output_type": "stream",
     "text": [
      "驻巴西大使馆 国家号:\u0001,地区号:\u0002-999816188\n",
      "驻里约热内卢总领管 国家号:\u0001,地区号:\u0002-32376612\n",
      "驻圣保罗总领管 国家号:\u0001,地区号:\u0002-30610800\n"
     ]
    }
   ],
   "source": [
    "s='''驻巴西大使馆 +55-61-999816188\n",
    "驻里约热内卢总领管 +55-21-32376612\n",
    "驻圣保罗总领管 +55-11-30610800'''\n",
    "import re\n",
    "a=re.sub('\\+(\\d+)-(\\d+)','国家号:\\1,地区号:\\2',s)\n",
    "print(a)\n",
    "\n"
   ]
  },
  {
   "cell_type": "code",
   "execution_count": 36,
   "id": "2594ae17",
   "metadata": {},
   "outputs": [
    {
     "name": "stdout",
     "output_type": "stream",
     "text": [
      "驻巴西大使馆 国家号:55,地区号:61-999816188\n",
      "驻里约热内卢总领管 国家号:55,地区号:21-32376612\n",
      "驻圣保罗总领管 国家号:55,地区号:11-30610800\n"
     ]
    }
   ],
   "source": [
    "a=re.sub(r'\\+(\\d+)-(\\d+)',r'国家号:\\1,地区号:\\2',s)\n",
    "print(a)"
   ]
  },
  {
   "cell_type": "code",
   "execution_count": 41,
   "id": "7c158fd1",
   "metadata": {},
   "outputs": [
    {
     "data": {
      "text/plain": [
       "[('25', '37', '8888'), ('21', '05', '7777')]"
      ]
     },
     "execution_count": 41,
     "metadata": {},
     "output_type": "execute_result"
    }
   ],
   "source": [
    "import re\n",
    "s='25-37-8888, 21-05-7777'\n",
    "a=re.findall(r'(\\d+)-(\\d+)-(\\d+)',s)\n",
    "a"
   ]
  },
  {
   "cell_type": "code",
   "execution_count": 42,
   "id": "b9de2fef",
   "metadata": {},
   "outputs": [
    {
     "data": {
      "text/plain": [
       "<re.Match object; span=(0, 10), match='25-37-8888'>"
      ]
     },
     "execution_count": 42,
     "metadata": {},
     "output_type": "execute_result"
    }
   ],
   "source": [
    "a=re.search(r'(\\d+)-(\\d+)-(\\d+)',s)\n",
    "a\n"
   ]
  },
  {
   "cell_type": "code",
   "execution_count": 43,
   "id": "259968fe",
   "metadata": {},
   "outputs": [
    {
     "data": {
      "text/plain": [
       "'25-37-8888'"
      ]
     },
     "execution_count": 43,
     "metadata": {},
     "output_type": "execute_result"
    }
   ],
   "source": [
    "a.group(0)"
   ]
  },
  {
   "cell_type": "code",
   "execution_count": 44,
   "id": "a4dedd1f",
   "metadata": {},
   "outputs": [
    {
     "data": {
      "text/plain": [
       "'25'"
      ]
     },
     "execution_count": 44,
     "metadata": {},
     "output_type": "execute_result"
    }
   ],
   "source": [
    "a.group(1)"
   ]
  },
  {
   "cell_type": "code",
   "execution_count": 45,
   "id": "5ea41730",
   "metadata": {},
   "outputs": [
    {
     "data": {
      "text/plain": [
       "'37'"
      ]
     },
     "execution_count": 45,
     "metadata": {},
     "output_type": "execute_result"
    }
   ],
   "source": [
    "a.group(2)"
   ]
  },
  {
   "cell_type": "code",
   "execution_count": 46,
   "id": "63fcabc9",
   "metadata": {},
   "outputs": [
    {
     "data": {
      "text/plain": [
       "'8888'"
      ]
     },
     "execution_count": 46,
     "metadata": {},
     "output_type": "execute_result"
    }
   ],
   "source": [
    "a.group(3)"
   ]
  },
  {
   "cell_type": "code",
   "execution_count": 47,
   "id": "0e006c39",
   "metadata": {},
   "outputs": [
    {
     "data": {
      "text/plain": [
       "'25-37-8888'"
      ]
     },
     "execution_count": 47,
     "metadata": {},
     "output_type": "execute_result"
    }
   ],
   "source": [
    "a.group()"
   ]
  },
  {
   "cell_type": "code",
   "execution_count": 48,
   "id": "8a5365c2",
   "metadata": {},
   "outputs": [
    {
     "name": "stdout",
     "output_type": "stream",
     "text": [
      "<re.Match object; span=(0, 10), match='25-37-8888'>\n",
      "<re.Match object; span=(11, 21), match='21-05-7777'>\n"
     ]
    }
   ],
   "source": [
    "import re\n",
    "s='25-37-8888,21-05-7777'\n",
    "a=re.finditer(r'(\\d+)-(\\d+)-(\\d+)',s)\n",
    "for i in a:\n",
    "    print(i)\n",
    "    \n"
   ]
  },
  {
   "cell_type": "code",
   "execution_count": 62,
   "id": "2d06bc2c",
   "metadata": {},
   "outputs": [
    {
     "name": "stdout",
     "output_type": "stream",
     "text": [
      "<re.Match object; span=(0, 10), match='25-37-8888'>\n",
      "25-37-8888 ('25', '37', '8888')\n",
      "<re.Match object; span=(11, 21), match='21-05-7777'>\n",
      "21-05-7777 ('21', '05', '7777')\n"
     ]
    }
   ],
   "source": [
    "import re\n",
    "s='25-37-8888,21-05-7777'\n",
    "a=re.finditer(r'(\\d+)-(\\d+)-(\\d+)',s)\n",
    "for i in a:\n",
    "    print(i)\n",
    "    print(i.group(),i.groups())"
   ]
  },
  {
   "cell_type": "markdown",
   "id": "c589fe24",
   "metadata": {},
   "source": [
    "## print(i.group(0))"
   ]
  },
  {
   "cell_type": "code",
   "execution_count": 63,
   "id": "a0ac1793",
   "metadata": {},
   "outputs": [
    {
     "data": {
      "text/plain": [
       "['35-3-401', '25-7-330-7-2568', '01-48-401-32']"
      ]
     },
     "execution_count": 63,
     "metadata": {},
     "output_type": "execute_result"
    }
   ],
   "source": [
    "s='产品A01的序列号是35-3-401，B35序列号25-7-330-7-2568，产品C09的序列号是：01-48-401-32。'\n",
    "import re\n",
    "pa=re.compile(r'\\d+(?:-\\d+)+')\n",
    "a=pa.findall(s)\n",
    "a"
   ]
  },
  {
   "cell_type": "code",
   "execution_count": null,
   "id": "8f4242fa",
   "metadata": {},
   "outputs": [],
   "source": []
  }
 ],
 "metadata": {
  "kernelspec": {
   "display_name": "Python 3 (ipykernel)",
   "language": "python",
   "name": "python3"
  },
  "language_info": {
   "codemirror_mode": {
    "name": "ipython",
    "version": 3
   },
   "file_extension": ".py",
   "mimetype": "text/x-python",
   "name": "python",
   "nbconvert_exporter": "python",
   "pygments_lexer": "ipython3",
   "version": "3.9.6"
  }
 },
 "nbformat": 4,
 "nbformat_minor": 5
}
