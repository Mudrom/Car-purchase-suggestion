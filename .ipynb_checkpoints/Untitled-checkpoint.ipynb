{
 "cells": [
  {
   "cell_type": "code",
   "execution_count": 1,
   "id": "6c98ce36",
   "metadata": {},
   "outputs": [
    {
     "data": {
      "text/plain": [
       "str"
      ]
     },
     "execution_count": 1,
     "metadata": {},
     "output_type": "execute_result"
    }
   ],
   "source": [
    "#import modules\n",
    "\n",
    "def user_input():\n",
    "\n",
    "    #welcome user and select a function\n",
    "    #TODO : 1. Design a welcome message that ask user to select a function, assign this message to a string variable 'word'\n",
    "word = \"Welcome to Stock Master!\"\n",
    "    #TODO : 2. Define a string variable 'function' . (This variable will be used to hold user's choice of function.)\n",
    "function = \"Please select a function to continue:\"\n",
    "    #TODO : 3. Define a string variable 'next_step', assign this string as '1' . (This variable will be used to construct a branch in following project blocks.)\n",
    "next_step = \"1\"\n",
    "    return word,function,next_step\n",
    "\n",
    "\n",
    "def check_code():\n",
    "\n",
    "    #ask user to input keyword\n",
    "    #TODO : 4. Define a string variable 'input_keyword' . (This variable will be used to hold user's input of keyword to search.)\n",
    "input_keyword = \"inout stock company keyword here\"\n",
    "    #get source data (code provided), the source data is stored in code_dic, a dictionary with all tickers' company name as key and stock code as value\n",
    "\n",
    "    #filter out tickers containing user's keyword\n",
    "\n",
    "    #ask for next step\n",
    "    #TODO : 5. Define a string variable 'next_step' . (This variable will be used to hold user's choice of next step to take.)\n",
    "\n",
    "    #return\n",
    "    return input_keyword,next_step\n",
    "\n",
    "\n",
    "\n",
    "\n",
    "\n",
    "\n",
    "next_step\n",
    "\n",
    "code\n",
    "\n",
    "input_start\n",
    "\n",
    "input_end\n",
    "\"\n",
    "    \n"
   ]
  },
  {
   "cell_type": "code",
   "execution_count": null,
   "id": "3ea5828d",
   "metadata": {},
   "outputs": [],
   "source": []
  }
 ],
 "metadata": {
  "kernelspec": {
   "display_name": "Python 3 (ipykernel)",
   "language": "python",
   "name": "python3"
  },
  "language_info": {
   "codemirror_mode": {
    "name": "ipython",
    "version": 3
   },
   "file_extension": ".py",
   "mimetype": "text/x-python",
   "name": "python",
   "nbconvert_exporter": "python",
   "pygments_lexer": "ipython3",
   "version": "3.9.7"
  }
 },
 "nbformat": 4,
 "nbformat_minor": 5
}
