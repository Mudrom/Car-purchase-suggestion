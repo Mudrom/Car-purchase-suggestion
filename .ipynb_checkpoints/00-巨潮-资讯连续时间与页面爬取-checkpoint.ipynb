{
 "cells": [
  {
   "cell_type": "code",
   "execution_count": 5,
   "metadata": {},
   "outputs": [],
   "source": [
    "import json\n",
    "import requests\n",
    "import re\n",
    "import datetime\n",
    "import csv \n",
    "import time\n",
    "#下载pdf公告的函数\n",
    "def downloadpdf(url, file):\n",
    "    resp = requests.get(url)\n",
    "    f = open(file, 'wb')\n",
    "    f.write(resp.content)\n",
    "    f.close()\n",
    "    \n",
    "    \n",
    "headers = {'User-Agent': 'Mozilla/5.0 (Windows NT 6.1; Win64; x64) AppleWebKit/537.36 (KHTML, like Gecko) Chrome/80.0.3987.149 Safari/537.36'}\n",
    "#新建csv文件，存储公告详细信息\n",
    "csvf = open('D:\\\\0final\\\\巨潮证券市场公告.csv', 'w', encoding='gbk', newline='')\n",
    "writer = csv.writer(csvf)\n",
    "writer.writerow(('公司名', '股票代码', '发布时间'))\n",
    "begin = datetime.date(2021,10,26)\n",
    "end = datetime.date(2021,11,9)\n",
    "\n",
    "\n",
    "for i in range((end - begin).days+1):#一共多少天，因为range5是01234所以要+1\n",
    "    time.sleep(1)#怕被反爬\n",
    "    searchDate = str(begin + datetime.timedelta(days=i))#在begin后面加i天\n",
    "#post对应的网址\n",
    "    url = 'http://www.cninfo.com.cn/new/hisAnnouncement/query'\n",
    "    data = {'pageNum': 1,\n",
    "    'pageSize': 30,#一页有30个\n",
    "    'column': 'szse',\n",
    "    'tabName': 'fulltext',\n",
    "   # 'plate': 'sh',#这个设置的意思是只有沪市\n",
    "    'category': 'category_ndbg_szsh', \n",
    "    'seDate': 'searchDate~searchDate',\n",
    "    'isHLtitle': 'true'}\n",
    "    resp1 = requests.post(url, data=data, headers=headers)\n",
    "    total_num= resp1.json()['totalRecordNum']#改成json格式输出，是字典的样子\n",
    "    page=(total_num//30)+1#有多少页\n",
    "    for p in range(1,page+1):\n",
    "        data1 = {'pageNum': p,#循环多少页就是多少页\n",
    "                'pageSize': 30,\n",
    "                'column': 'szse',\n",
    "                'tabName': 'fulltext',\n",
    "               # 'plate': 'sh',\n",
    "                'category': 'category_ndbg_szsh', \n",
    "                'seDate': '2021-10-26~2021-11-09',\n",
    "                'isHLtitle': 'true'}\n",
    "        time.sleep(0.5)\n",
    "        resp = requests.post(url, data=data1, headers=headers)\n",
    "        pdfss = resp.json()['announcements']\n",
    "        for pdfs in pdfss:\n",
    "            code=pdfs['secCode']\n",
    "            name=pdfs['secName']\n",
    "            announcementId=pdfs['announcementId']\n",
    "            time1=pdfs['adjunctUrl'].split('/')[1]\n",
    "            title=pdfs['announcementTitle']\n",
    "            if re.search('年度报告',title,re.S):\n",
    "                if re.search('摘要',title,re.S):###避免下载一些年报摘要等不需要的文件###\n",
    "                    pass\n",
    "                elif re.search('英文版',title,re.S):###避免下载一些年报摘要等不需要的文件###\n",
    "                    pass\n",
    "                else:\n",
    "                    adjunctUrl ='http://static.cninfo.com.cn/'+pdfs['adjunctUrl']\n",
    "                    pdffile ='D:/0final/pdf/'+code+'-'+'-'+time1+'.pdf'\n",
    "                    #if re.search('ST',title,re.S):\n",
    "                     #   pdffile='D:/finaljc/pdf/'+code+'-'+'ST'+'-'+time1+'.pdf'\n",
    "                    downloadpdf(url=adjunctUrl, file=pdffile)\n",
    "                    announcementTime = pdfs['announcementTime']                    \n",
    "    #print(secName, secCode, announcementTime, announcementTitle, adjunctUrl, announcementTypeName)\n",
    "                    writer.writerow((name, code,searchDate))\n",
    "csvf.close()\n",
    "\n"
   ]
  },
  {
   "cell_type": "code",
   "execution_count": 9,
   "metadata": {},
   "outputs": [
    {
     "data": {
      "text/plain": [
       "40"
      ]
     },
     "execution_count": 9,
     "metadata": {},
     "output_type": "execute_result"
    }
   ],
   "source": []
  },
  {
   "cell_type": "code",
   "execution_count": null,
   "metadata": {},
   "outputs": [],
   "source": []
  },
  {
   "cell_type": "code",
   "execution_count": null,
   "metadata": {},
   "outputs": [],
   "source": []
  },
  {
   "cell_type": "code",
   "execution_count": null,
   "metadata": {},
   "outputs": [],
   "source": []
  }
 ],
 "metadata": {
  "kernelspec": {
   "display_name": "Python 3 (ipykernel)",
   "language": "python",
   "name": "python3"
  },
  "language_info": {
   "codemirror_mode": {
    "name": "ipython",
    "version": 3
   },
   "file_extension": ".py",
   "mimetype": "text/x-python",
   "name": "python",
   "nbconvert_exporter": "python",
   "pygments_lexer": "ipython3",
   "version": "3.9.7"
  }
 },
 "nbformat": 4,
 "nbformat_minor": 4
}
